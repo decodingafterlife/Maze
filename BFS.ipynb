{
 "cells": [
  {
   "cell_type": "code",
   "execution_count": 1,
   "id": "d14b3537-2f5a-4c79-9f3e-0c531060f691",
   "metadata": {},
   "outputs": [],
   "source": [
    "import numpy as np\n",
    "import matplotlib.pyplot as plt\n",
    "from queue import Queue\n",
    "import time\n",
    "import random\n",
    "import numba\n",
    "import json"
   ]
  },
  {
   "cell_type": "code",
   "execution_count": 6,
   "id": "48a4e6bc-252f-4433-b65e-28ee4c65aa2b",
   "metadata": {},
   "outputs": [
    {
     "data": {
      "text/plain": [
       "' BFS '"
      ]
     },
     "execution_count": 6,
     "metadata": {},
     "output_type": "execute_result"
    }
   ],
   "source": [
    "\"\"\" BFS \"\"\""
   ]
  },
  {
   "cell_type": "code",
   "execution_count": 7,
   "id": "b57b0e2d-785f-4a1e-a239-e2f983f89fd3",
   "metadata": {
    "scrolled": true
   },
   "outputs": [
    {
     "data": {
      "text/plain": [
       "Text(0.5, 1.0, 'Maze_1')"
      ]
     },
     "execution_count": 7,
     "metadata": {},
     "output_type": "execute_result"
    },
    {
     "data": {
      "image/png": "[encoded data removed]",
      "text/plain": [
       "<Figure size 640x480 with 1 Axes>"
      ]
     },
     "metadata": {},
     "output_type": "display_data"
    }
   ],
   "source": [
    "# Create the maze array (1 for walls, 0 for paths)\n",
    "maze_1 = np.array([\n",
    "    [1, 1, 1, 1, 1, 1, 1, 1, 1, 1, 1, 1],\n",
    "    [0, 0, 0, 0, 1, 0, 0, 0, 0, 0, 0, 1],\n",
    "    [1, 1, 1, 0, 1, 0, 1, 1, 1, 1, 0, 1],\n",
    "    [1, 0, 0, 0, 1, 0, 0, 0, 0, 1, 0, 1],\n",
    "    [1, 0, 1, 1, 1, 1, 1, 1, 0, 1, 0, 1],\n",
    "    [1, 0, 0, 0, 0, 0, 0, 1, 0, 1, 0, 1],\n",
    "    [1, 1, 1, 1, 1, 1, 0, 1, 0, 1, 0, 1],\n",
    "    [1, 0, 0, 0, 0, 0, 0, 1, 0, 1, 0, 1],\n",
    "    [1, 0, 1, 1, 1, 1, 1, 1, 0, 1, 0, 1],\n",
    "    [1, 0, 0, 0, 0, 0, 0, 0, 0, 1, 0, 1],\n",
    "    [1, 1, 1, 1, 1, 1, 1, 1, 1, 1, 0, 0],\n",
    "    [1, 1, 1, 1, 1, 1, 1, 1, 1, 1, 1, 1]\n",
    "])\n",
    "\n",
    "rows, cols = 12, 12\n",
    "start = (1, 0)\n",
    "goal = (10, 11)\n",
    "\n",
    "plt.imshow(maze_1, cmap = 'binary')\n",
    "\n",
    "# Mark the start point (green)\n",
    "start = (1, 0)\n",
    "plt.plot(start[1], start[0], 'go', markersize=12, markeredgecolor='white')\n",
    "\n",
    "# Mark the end point (yellow)\n",
    "end = (10, 11)\n",
    "plt.plot(end[1], end[0], 'yo', markersize=12, markeredgecolor='white')\n",
    "\n",
    "plt.axis('off')\n",
    "\n",
    "plt.title(\"Maze_1\")"
   ]
  },
  {
   "cell_type": "code",
   "execution_count": 8,
   "id": "406bff66-99fc-4d74-ac3f-9aa593bc42a0",
   "metadata": {},
   "outputs": [
    {
     "data": {
      "text/plain": [
       "Text(0.5, 1.0, 'Maze_2')"
      ]
     },
     "execution_count": 8,
     "metadata": {},
     "output_type": "execute_result"
    },
    {
     "data": {
      "image/png": "[encoded data removed]",
      "text/plain": [
       "<Figure size 640x480 with 1 Axes>"
      ]
     },
     "metadata": {},
     "output_type": "display_data"
    }
   ],
   "source": [
    "# Create the maze array (1 for walls, 0 for paths)\n",
    "maze_2 = np.array([\n",
    "    [1,1,1,1,1,1,1,1,1,1,1,1,1,1,1,1,1,1,1,1],\n",
    "    [0,0,1,0,0,0,0,0,1,1,0,0,0,0,0,0,1,1,0,1],\n",
    "    [1,0,1,0,1,1,1,0,0,1,0,1,1,1,1,0,0,0,0,1],\n",
    "    [1,0,1,0,0,0,1,1,0,1,0,0,0,0,1,1,1,1,0,1],\n",
    "    [1,0,1,1,1,0,0,1,0,1,1,1,1,0,0,0,0,1,0,1],\n",
    "    [1,0,0,0,1,1,0,1,0,0,0,0,1,0,1,1,0,0,0,1],\n",
    "    [1,1,1,0,0,0,0,1,1,1,1,0,1,0,1,1,1,1,1,1],\n",
    "    [1,0,1,1,1,1,0,0,0,0,1,0,1,0,0,0,0,0,0,1],\n",
    "    [1,0,0,0,0,1,1,1,1,0,1,0,1,1,1,1,1,1,0,1],\n",
    "    [1,1,1,1,0,0,0,0,1,0,1,0,0,0,0,0,0,1,0,1],\n",
    "    [1,0,0,1,1,1,1,0,1,0,1,0,1,1,1,1,0,1,0,1],\n",
    "    [1,0,1,1,0,0,0,0,1,0,1,0,1,0,0,0,0,1,0,1],\n",
    "    [1,0,0,1,0,1,1,1,1,0,1,0,1,0,1,1,1,1,0,1],\n",
    "    [1,1,0,1,0,0,0,0,0,0,1,0,1,0,0,0,0,0,0,1],\n",
    "    [1,0,0,1,1,1,1,1,1,1,1,0,1,1,1,1,1,1,0,1],\n",
    "    [1,0,1,1,0,0,0,0,0,0,0,0,0,0,0,0,0,1,0,1],\n",
    "    [1,0,0,1,0,1,1,1,1,1,1,1,1,1,1,1,0,1,0,1],\n",
    "    [1,1,0,1,0,0,0,0,0,0,0,0,0,0,0,0,0,1,0,1],\n",
    "    [1,0,0,0,0,1,1,1,1,1,1,1,1,1,1,1,1,1,0,0],\n",
    "    [1,1,1,1,1,1,1,1,1,1,1,1,1,1,1,1,1,1,1,1]\n",
    "])\n",
    "\n",
    "rows, cols = 20, 20\n",
    "start = (1, 0)\n",
    "end = (18, 19)\n",
    "\n",
    "plt.imshow(maze_2, cmap = 'binary')\n",
    "\n",
    "# Mark the start point (green)\n",
    "start = (1, 0)\n",
    "plt.plot(start[1], start[0], 'go', markersize=12, markeredgecolor='white')\n",
    "\n",
    "# Mark the end point (yellow)\n",
    "end = (18, 19)\n",
    "plt.plot(end[1], end[0], 'yo', markersize=12, markeredgecolor='white')\n",
    "\n",
    "plt.axis('off')\n",
    "\n",
    "plt.title('Maze_2')"
   ]
  },
  {
   "cell_type": "code",
   "execution_count": 9,
   "id": "216e8515-abc7-40c3-bb54-bf5112442418",
   "metadata": {},
   "outputs": [
    {
     "data": {
      "text/plain": [
       "Text(0.5, 1.0, 'Maze_3')"
      ]
     },
     "execution_count": 9,
     "metadata": {},
     "output_type": "execute_result"
    },
    {
     "data": {
      "image/png": "[encoded data removed]",
      "text/plain": [
       "<Figure size 640x480 with 1 Axes>"
      ]
     },
     "metadata": {},
     "output_type": "display_data"
    }
   ],
   "source": [
    "# Create the maze array (1 for walls, 0 for paths)\n",
    "maze_3 = np.array([\n",
    "    [1, 1, 1, 1, 1, 1, 1, 1, 1, 1, 1, 1, 1, 1, 1, 1, 1, 1, 1, 1],\n",
    "    [0, 0, 0, 0, 0, 1, 0, 0, 0, 0, 0, 0, 0, 1, 0, 0, 0, 0, 0, 1],\n",
    "    [1, 1, 1, 1, 0, 1, 0, 1, 1, 1, 1, 1, 0, 1, 0, 1, 1, 1, 0, 1],\n",
    "    [1, 0, 0, 0, 0, 1, 0, 0, 0, 0, 0, 1, 0, 1, 0, 1, 0, 0, 0, 1],\n",
    "    [1, 0, 1, 1, 1, 1, 1, 0, 1, 1, 0, 1, 0, 1, 0, 1, 0, 1, 1, 1],\n",
    "    [1, 0, 0, 0, 0, 0, 0, 0, 0, 1, 0, 1, 0, 0, 0, 1, 0, 0, 0, 1],\n",
    "    [1, 1, 1, 1, 1, 1, 1, 1, 0, 1, 0, 1, 1, 1, 1, 1, 0, 1, 0, 1],\n",
    "    [1, 0, 0, 0, 0, 0, 0, 0, 0, 1, 0, 0, 0, 0, 0, 1, 0, 1, 0, 0],\n",
    "    [1, 1, 1, 1, 1, 1, 1, 1, 1, 1, 1, 1, 1, 1, 1, 1, 1, 1, 1, 1]\n",
    "])\n",
    "\n",
    "rows, cols = 9, 20\n",
    "start = (1, 0)\n",
    "end = (7, 19)\n",
    "\n",
    "plt.imshow(maze_3, cmap = 'binary')\n",
    "\n",
    "# Mark the start point (green)\n",
    "start = (1, 0)\n",
    "plt.plot(start[1], start[0], 'go', markersize=12, markeredgecolor='white')\n",
    "\n",
    "# Mark the end point (yellow)\n",
    "end = (7, 19)\n",
    "plt.plot(end[1], end[0], 'yo', markersize=12, markeredgecolor='white')\n",
    "\n",
    "plt.axis('off')\n",
    "\n",
    "plt.title('Maze_3')"
   ]
  },
  {
   "cell_type": "code",
   "execution_count": 5,
   "id": "b980a085-42fa-43fd-98ef-d459afb6e708",
   "metadata": {},
   "outputs": [],
   "source": [
    "def bfs(maze, start, goal):\n",
    "    \"\"\"\n",
    "    Perform Breadth-First Search on the maze and return the path and explored nodes.\n",
    "    \n",
    "    Parameters:\n",
    "    maze (numpy.ndarray): 2D array representing the maze\n",
    "    start (tuple): Starting position (row, col)\n",
    "    goal (tuple): Goal position (row, col)\n",
    "    \n",
    "    Returns:\n",
    "    list: Path from start to goal\n",
    "    set: All explored nodes\n",
    "    int: Number of nodes expanded\n",
    "    \"\"\"\n",
    "    rows, cols = maze.shape\n",
    "    queue = Queue()\n",
    "    queue.put(start)\n",
    "    visited = set([start])\n",
    "    parent = {}\n",
    "    nodes_expanded = 0\n",
    "    explored = set()\n",
    "\n",
    "    while not queue.empty():\n",
    "        current = queue.get()\n",
    "        nodes_expanded += 1\n",
    "        explored.add(current)\n",
    "\n",
    "        if current == goal:\n",
    "            path = []\n",
    "            while current in parent:\n",
    "                path.append(current)\n",
    "                current = parent[current]\n",
    "            path.append(start)\n",
    "            return path[::-1], explored, nodes_expanded\n",
    "\n",
    "        for dr, dc in [(0, 1), (1, 0), (0, -1), (-1, 0)]:  # Right, Down, Left, Up\n",
    "            nr, nc = current[0] + dr, current[1] + dc\n",
    "            if 0 <= nr < rows and 0 <= nc < cols and maze[nr, nc] == 0 and (nr, nc) not in visited:\n",
    "                queue.put((nr, nc))\n",
    "                visited.add((nr, nc))\n",
    "                parent[(nr, nc)] = current\n",
    "\n",
    "    return None, explored, nodes_expanded  # No path found\n"
   ]
  },
  {
   "cell_type": "code",
   "execution_count": 6,
   "id": "f55ed0e6-1606-4fb8-a156-a20e851912f3",
   "metadata": {},
   "outputs": [],
   "source": [
    "def visualize_maze(maze, start, goal, path, explored):\n",
    "    \"\"\"\n",
    "    Visualize the maze, path, and explored nodes.\n",
    "    \n",
    "    Parameters:\n",
    "    maze (numpy.ndarray): 2D array representing the maze\n",
    "    start (tuple): Starting position (row, col)\n",
    "    goal (tuple): Goal position (row, col)\n",
    "    path (list): Path from start to goal\n",
    "    explored (set): Set of explored nodes\n",
    "    \"\"\"\n",
    "    # plt.figure(figsize=(10, 10))\n",
    "    plt.imshow(maze, cmap='binary')\n",
    "    \n",
    "    # Plot explored nodes\n",
    "    explored_r, explored_c = zip(*explored)\n",
    "    plt.scatter(explored_c, explored_r, color='lightblue', alpha=0.3, s=50)\n",
    "    \n",
    "    # Plot path\n",
    "    if path:\n",
    "        path_r, path_c = zip(*path)\n",
    "        plt.plot(path_c, path_r, color='red', linewidth=2, marker='o', markersize=6)\n",
    "    \n",
    "    # Mark start and goal\n",
    "    plt.plot(start[1], start[0], 'go', markersize=12, label='Start')\n",
    "    plt.plot(goal[1], goal[0], 'yo', markersize=12, label='Goal')\n",
    "\n",
    "    plt.legend()\n",
    "    plt.title('Maze Solution with BFS')\n",
    "    plt.axis('off')\n",
    "    plt.show()"
   ]
  },
  {
   "cell_type": "code",
   "execution_count": 17,
   "id": "535bd986-8bb0-4749-bd9a-80e0c5afd222",
   "metadata": {
    "scrolled": true
   },
   "outputs": [
    {
     "data": {
      "image/png": "[encoded data removed]",
      "text/plain": [
       "<Figure size 640x480 with 1 Axes>"
      ]
     },
     "metadata": {},
     "output_type": "display_data"
    },
    {
     "name": "stdout",
     "output_type": "stream",
     "text": [
      "BFS: Time = 0.0000s, Nodes Expanded = 57, Path Length = 57\n"
     ]
    }
   ],
   "source": [
    "rows, cols = 12, 12\n",
    "start = (1, 0)\n",
    "goal = (10, 11)\n",
    "maze = maze_1\n",
    "\n",
    "# Run BFS\n",
    "start_time = time.time()\n",
    "bfs_path, bfs_explored, bfs_nodes_expanded = bfs(maze, start, goal)\n",
    "bfs_time = time.time() - start_time\n",
    "\n",
    "# Visualize the result\n",
    "visualize_maze(maze, start, goal, bfs_path, bfs_explored)\n",
    "print(f\"BFS: Time = {bfs_time:.4f}s, Nodes Expanded = {bfs_nodes_expanded}, Path Length = {len(bfs_path) if bfs_path else 'N/A'}\")"
   ]
  },
  {
   "cell_type": "code",
   "execution_count": 13,
   "id": "f5f5a1c5-9e01-45b7-abb1-80c2455b102f",
   "metadata": {},
   "outputs": [
    {
     "data": {
      "image/png": "[encoded data removed]",
      "text/plain": [
       "<Figure size 640x480 with 1 Axes>"
      ]
     },
     "metadata": {},
     "output_type": "display_data"
    },
    {
     "name": "stdout",
     "output_type": "stream",
     "text": [
      "BFS: Time = 0.0010s, Nodes Expanded = 135, Path Length = 59\n"
     ]
    }
   ],
   "source": [
    "rows, cols = 20, 20\n",
    "start = (1, 0)\n",
    "goal = (18, 19)\n",
    "maze = maze_2\n",
    "\n",
    "# Run BFS\n",
    "start_time = time.time()\n",
    "bfs_path, bfs_explored, bfs_nodes_expanded = bfs(maze, start, goal)\n",
    "bfs_time = time.time() - start_time\n",
    "\n",
    "# Visualize the result\n",
    "visualize_maze(maze, start, goal, bfs_path, bfs_explored)\n",
    "\n",
    "print(f\"BFS: Time = {bfs_time:.4f}s, Nodes Expanded = {bfs_nodes_expanded}, Path Length = {len(bfs_path) if bfs_path else 'N/A'}\")"
   ]
  },
  {
   "cell_type": "code",
   "execution_count": 14,
   "id": "1df0c8cb-1dd1-49e7-8dc7-33627bd8c6ce",
   "metadata": {},
   "outputs": [
    {
     "data": {
      "image/png": "[encoded data removed]",
      "text/plain": [
       "<Figure size 640x480 with 1 Axes>"
      ]
     },
     "metadata": {},
     "output_type": "display_data"
    },
    {
     "name": "stdout",
     "output_type": "stream",
     "text": [
      "BFS: Time = 0.0010s, Nodes Expanded = 77, Path Length = 54\n"
     ]
    }
   ],
   "source": [
    "rows, cols = 9, 20\n",
    "start = (1, 0)\n",
    "goal = (7, 19)\n",
    "maze = maze_3\n",
    "\n",
    "# Run BFS\n",
    "start_time = time.time()\n",
    "bfs_path, bfs_explored, bfs_nodes_expanded = bfs(maze, start, goal)\n",
    "bfs_time = time.time() - start_time\n",
    "\n",
    "# Visualize the result\n",
    "visualize_maze(maze, start, goal, bfs_path, bfs_explored)\n",
    "\n",
    "print(f\"BFS: Time = {bfs_time:.4f}s, Nodes Expanded = {bfs_nodes_expanded}, Path Length = {len(bfs_path) if bfs_path else 'N/A'}\")"
   ]
  },
  {
   "cell_type": "code",
   "execution_count": null,
   "id": "faae62dd-8830-4d67-8a79-7d25deea4b93",
   "metadata": {},
   "outputs": [],
   "source": []
  }
 ],
 "metadata": {
  "kernelspec": {
   "display_name": "Python 3 (ipykernel)",
   "language": "python",
   "name": "python3"
  },
  "language_info": {
   "codemirror_mode": {
    "name": "ipython",
    "version": 3
   },
   "file_extension": ".py",
   "mimetype": "text/x-python",
   "name": "python",
   "nbconvert_exporter": "python",
   "pygments_lexer": "ipython3",
   "version": "3.12.0"
  }
 },
 "nbformat": 4,
 "nbformat_minor": 5
}
