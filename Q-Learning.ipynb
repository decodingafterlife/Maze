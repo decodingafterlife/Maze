{
 "cells": [
  {
   "cell_type": "code",
   "execution_count": 1,
   "id": "0bf46033-bfc3-40f1-bb46-f76dac49e3fe",
   "metadata": {},
   "outputs": [],
   "source": [
    "import numpy as np\n",
    "import matplotlib.pyplot as plt\n",
    "from queue import Queue\n",
    "import time\n",
    "import random\n",
    "import numba\n",
    "import json"
   ]
  },
  {
   "cell_type": "code",
   "execution_count": 2,
   "id": "35cf83f3-099b-46a2-a4d0-3c6b69fb8988",
   "metadata": {},
   "outputs": [
    {
     "data": {
      "text/plain": [
       "Text(0.5, 1.0, 'Maze_1')"
      ]
     },
     "execution_count": 2,
     "metadata": {},
     "output_type": "execute_result"
    },
    {
     "data": {
      "image/png": "[encoded data removed]",
      "text/plain": [
       "<Figure size 640x480 with 1 Axes>"
      ]
     },
     "metadata": {},
     "output_type": "display_data"
    }
   ],
   "source": [
    "# Create the maze array (1 for walls, 0 for paths)\n",
    "maze_1 = np.array([\n",
    "    [1, 1, 1, 1, 1, 1, 1, 1, 1, 1, 1, 1],\n",
    "    [0, 0, 0, 0, 1, 0, 0, 0, 0, 0, 0, 1],\n",
    "    [1, 1, 1, 0, 1, 0, 1, 1, 1, 1, 0, 1],\n",
    "    [1, 0, 0, 0, 1, 0, 0, 0, 0, 1, 0, 1],\n",
    "    [1, 0, 1, 1, 1, 1, 1, 1, 0, 1, 0, 1],\n",
    "    [1, 0, 0, 0, 0, 0, 0, 1, 0, 1, 0, 1],\n",
    "    [1, 1, 1, 1, 1, 1, 0, 1, 0, 1, 0, 1],\n",
    "    [1, 0, 0, 0, 0, 0, 0, 1, 0, 1, 0, 1],\n",
    "    [1, 0, 1, 1, 1, 1, 1, 1, 0, 1, 0, 1],\n",
    "    [1, 0, 0, 0, 0, 0, 0, 0, 0, 1, 0, 1],\n",
    "    [1, 1, 1, 1, 1, 1, 1, 1, 1, 1, 0, 0],\n",
    "    [1, 1, 1, 1, 1, 1, 1, 1, 1, 1, 1, 1]\n",
    "])\n",
    "\n",
    "rows, cols = 12, 12\n",
    "start = (1, 0)\n",
    "goal = (10, 11)\n",
    "\n",
    "plt.imshow(maze_1, cmap = 'binary')\n",
    "\n",
    "# Mark the start point (green)\n",
    "start = (1, 0)\n",
    "plt.plot(start[1], start[0], 'go', markersize=12, markeredgecolor='white')\n",
    "\n",
    "# Mark the end point (yellow)\n",
    "end = (10, 11)\n",
    "plt.plot(end[1], end[0], 'yo', markersize=12, markeredgecolor='white')\n",
    "\n",
    "plt.axis('off')\n",
    "\n",
    "plt.title(\"Maze_1\")"
   ]
  },
  {
   "cell_type": "code",
   "execution_count": 3,
   "id": "6bc6cdd1-1b54-4de5-aa6a-81b39fa393ea",
   "metadata": {},
   "outputs": [
    {
     "data": {
      "text/plain": [
       "Text(0.5, 1.0, 'Maze_2')"
      ]
     },
     "execution_count": 3,
     "metadata": {},
     "output_type": "execute_result"
    },
    {
     "data": {
      "image/png": "[encoded data removed]",
      "text/plain": [
       "<Figure size 640x480 with 1 Axes>"
      ]
     },
     "metadata": {},
     "output_type": "display_data"
    }
   ],
   "source": [
    "# Create the maze array (1 for walls, 0 for paths)\n",
    "maze_2 = np.array([\n",
    "    [1,1,1,1,1,1,1,1,1,1,1,1,1,1,1,1,1,1,1,1],\n",
    "    [0,0,1,0,0,0,0,0,1,1,0,0,0,0,0,0,1,1,0,1],\n",
    "    [1,0,1,0,1,1,1,0,0,1,0,1,1,1,1,0,0,0,0,1],\n",
    "    [1,0,1,0,0,0,1,1,0,1,0,0,0,0,1,1,1,1,0,1],\n",
    "    [1,0,1,1,1,0,0,1,0,1,1,1,1,0,0,0,0,1,0,1],\n",
    "    [1,0,0,0,1,1,0,1,0,0,0,0,1,0,1,1,0,0,0,1],\n",
    "    [1,1,1,0,0,0,0,1,1,1,1,0,1,0,1,1,1,1,1,1],\n",
    "    [1,0,1,1,1,1,0,0,0,0,1,0,1,0,0,0,0,0,0,1],\n",
    "    [1,0,0,0,0,1,1,1,1,0,1,0,1,1,1,1,1,1,0,1],\n",
    "    [1,1,1,1,0,0,0,0,1,0,1,0,0,0,0,0,0,1,0,1],\n",
    "    [1,0,0,1,1,1,1,0,1,0,1,0,1,1,1,1,0,1,0,1],\n",
    "    [1,0,1,1,0,0,0,0,1,0,1,0,1,0,0,0,0,1,0,1],\n",
    "    [1,0,0,1,0,1,1,1,1,0,1,0,1,0,1,1,1,1,0,1],\n",
    "    [1,1,0,1,0,0,0,0,0,0,1,0,1,0,0,0,0,0,0,1],\n",
    "    [1,0,0,1,1,1,1,1,1,1,1,0,1,1,1,1,1,1,0,1],\n",
    "    [1,0,1,1,0,0,0,0,0,0,0,0,0,0,0,0,0,1,0,1],\n",
    "    [1,0,0,1,0,1,1,1,1,1,1,1,1,1,1,1,0,1,0,1],\n",
    "    [1,1,0,1,0,0,0,0,0,0,0,0,0,0,0,0,0,1,0,1],\n",
    "    [1,0,0,0,0,1,1,1,1,1,1,1,1,1,1,1,1,1,0,0],\n",
    "    [1,1,1,1,1,1,1,1,1,1,1,1,1,1,1,1,1,1,1,1]\n",
    "])\n",
    "\n",
    "rows, cols = 20, 20\n",
    "start = (1, 0)\n",
    "end = (18, 19)\n",
    "\n",
    "plt.imshow(maze_2, cmap = 'binary')\n",
    "\n",
    "# Mark the start point (green)\n",
    "start = (1, 0)\n",
    "plt.plot(start[1], start[0], 'go', markersize=12, markeredgecolor='white')\n",
    "\n",
    "# Mark the end point (yellow)\n",
    "end = (18, 19)\n",
    "plt.plot(end[1], end[0], 'yo', markersize=12, markeredgecolor='white')\n",
    "\n",
    "plt.axis('off')\n",
    "\n",
    "plt.title('Maze_2')"
   ]
  },
  {
   "cell_type": "code",
   "execution_count": 4,
   "id": "55c0b7e8-4ca6-44a0-8369-533d2e7423fe",
   "metadata": {},
   "outputs": [
    {
     "data": {
      "text/plain": [
       "Text(0.5, 1.0, 'Maze_3')"
      ]
     },
     "execution_count": 4,
     "metadata": {},
     "output_type": "execute_result"
    },
    {
     "data": {
      "image/png": "[encoded data removed]",
      "text/plain": [
       "<Figure size 640x480 with 1 Axes>"
      ]
     },
     "metadata": {},
     "output_type": "display_data"
    }
   ],
   "source": [
    "# Create the maze array (1 for walls, 0 for paths)\n",
    "maze_3 = np.array([\n",
    "    [1, 1, 1, 1, 1, 1, 1, 1, 1, 1, 1, 1, 1, 1, 1, 1, 1, 1, 1, 1],\n",
    "    [0, 0, 0, 0, 0, 1, 0, 0, 0, 0, 0, 0, 0, 1, 0, 0, 0, 0, 0, 1],\n",
    "    [1, 1, 1, 1, 0, 1, 0, 1, 1, 1, 1, 1, 0, 1, 0, 1, 1, 1, 0, 1],\n",
    "    [1, 0, 0, 0, 0, 1, 0, 0, 0, 0, 0, 1, 0, 1, 0, 1, 0, 0, 0, 1],\n",
    "    [1, 0, 1, 1, 1, 1, 1, 0, 1, 1, 0, 1, 0, 1, 0, 1, 0, 1, 1, 1],\n",
    "    [1, 0, 0, 0, 0, 0, 0, 0, 0, 1, 0, 1, 0, 0, 0, 1, 0, 0, 0, 1],\n",
    "    [1, 1, 1, 1, 1, 1, 1, 1, 0, 1, 0, 1, 1, 1, 1, 1, 0, 1, 0, 1],\n",
    "    [1, 0, 0, 0, 0, 0, 0, 0, 0, 1, 0, 0, 0, 0, 0, 1, 0, 1, 0, 0],\n",
    "    [1, 1, 1, 1, 1, 1, 1, 1, 1, 1, 1, 1, 1, 1, 1, 1, 1, 1, 1, 1]\n",
    "])\n",
    "\n",
    "rows, cols = 9, 20\n",
    "start = (1, 0)\n",
    "end = (7, 19)\n",
    "\n",
    "plt.imshow(maze_3, cmap = 'binary')\n",
    "\n",
    "# Mark the start point (green)\n",
    "start = (1, 0)\n",
    "plt.plot(start[1], start[0], 'go', markersize=12, markeredgecolor='white')\n",
    "\n",
    "# Mark the end point (yellow)\n",
    "end = (7, 19)\n",
    "plt.plot(end[1], end[0], 'yo', markersize=12, markeredgecolor='white')\n",
    "\n",
    "plt.axis('off')\n",
    "\n",
    "plt.title('Maze_3')"
   ]
  },
  {
   "cell_type": "code",
   "execution_count": 18,
   "id": "d01d0724-147c-4c8d-8b12-5d9efee44091",
   "metadata": {},
   "outputs": [],
   "source": [
    "@numba.jit(nopython=True)\n",
    "def q_learning(maze, start, goal, episodes=10000, alpha=0.1, gamma=0.99, epsilon=0.1):\n",
    "\n",
    "    \"\"\"\n",
    "    Perform Q-learning on the maze.\n",
    "\n",
    "    Parameters:\n",
    "    maze (numpy.ndarray): 2D array representing the maze\n",
    "    start (tuple): Starting position (row, col)\n",
    "    goal (tuple): Goal position (row, col)\n",
    "    episodes (int): Number of episodes to run\n",
    "    alpha (float): Learning rate\n",
    "    gamma (float): Discount factor\n",
    "    epsilon (float): Exploration rate\n",
    "\n",
    "    Returns:\n",
    "    dict: Q-table\n",
    "    list: Path from start to goal\n",
    "    int: Number of episodes needed to converge\n",
    "    \"\"\"\n",
    "    \n",
    "    rows, cols = maze.shape\n",
    "    q_table = np.zeros((rows, cols, 4))\n",
    "    actions = np.array([(0, 1), (1, 0), (0, -1), (-1, 0)])  # Right, Down, Left, Up\n",
    "\n",
    "    for _ in range(episodes):\n",
    "        state = start\n",
    "        while state != goal:\n",
    "            if np.random.random() < epsilon:\n",
    "                action = np.random.choice(4)\n",
    "            else:\n",
    "                action = np.argmax(q_table[state[0], state[1]])\n",
    "            \n",
    "            next_state = (state[0] + actions[action][0], state[1] + actions[action][1])\n",
    "            \n",
    "            if 0 <= next_state[0] < rows and 0 <= next_state[1] < cols and maze[next_state] == 0:\n",
    "                reward = 10 if next_state == goal else -0.1\n",
    "                q_table[state[0], state[1], action] += alpha * (reward + gamma * np.max(q_table[next_state[0], next_state[1]]) - q_table[state[0], state[1], action])\n",
    "                state = next_state\n",
    "            else:\n",
    "                q_table[state[0], state[1], action] += alpha * (-1 - q_table[state[0], state[1], action])\n",
    "\n",
    "    return q_table\n",
    "\n",
    "@numba.jit(nopython=True)\n",
    "def get_path(q_table, start, goal):\n",
    "    path = [start]\n",
    "    state = start\n",
    "    actions = np.array([(0, 1), (1, 0), (0, -1), (-1, 0)])  # Right, Down, Left, Up\n",
    "    \n",
    "    while state != goal:\n",
    "        action = np.argmax(q_table[state[0], state[1]])\n",
    "        next_state = (state[0] + actions[action][0], state[1] + actions[action][1])\n",
    "        path.append(next_state)\n",
    "        state = next_state\n",
    "        if len(path) > 100:  # Prevent infinite loop\n",
    "            return None\n",
    "    return path"
   ]
  },
  {
   "cell_type": "code",
   "execution_count": 7,
   "id": "fc4763d5-203b-44af-8827-91981192d924",
   "metadata": {},
   "outputs": [],
   "source": [
    "def visualize_maze(maze, start, goal, path):\n",
    "    \"\"\"\n",
    "    Visualize the maze, path, and explored nodes.\n",
    "    \n",
    "    Parameters:\n",
    "    maze (numpy.ndarray): 2D array representing the maze\n",
    "    start (tuple): Starting position (row, col)\n",
    "    goal (tuple): Goal position (row, col)\n",
    "    path (list): Path from start to goal\n",
    "    explored (set): Set of explored nodes\n",
    "    \"\"\"\n",
    "    # plt.figure(figsize=(10, 10))\n",
    "    plt.imshow(maze, cmap='binary')\n",
    "    \n",
    "    # Plot path\n",
    "    if path:\n",
    "        path_r, path_c = zip(*path)\n",
    "        plt.plot(path_c, path_r, color='red', linewidth=2, marker='o', markersize=6)\n",
    "    \n",
    "    # Mark start and goal\n",
    "    plt.plot(start[1], start[0], 'go', markersize=12, label='Start')\n",
    "    plt.plot(goal[1], goal[0], 'yo', markersize=12, label='Goal')\n",
    "\n",
    "    plt.legend()\n",
    "    plt.title('Maze Solution with Q-Learning')\n",
    "    plt.axis('off')\n",
    "    plt.show()"
   ]
  },
  {
   "cell_type": "code",
   "execution_count": 8,
   "id": "79c7b31f-d902-4373-9c02-25cf15c8119f",
   "metadata": {},
   "outputs": [
    {
     "data": {
      "image/png": "[encoded data removed]",
      "text/plain": [
       "<Figure size 640x480 with 1 Axes>"
      ]
     },
     "metadata": {},
     "output_type": "display_data"
    },
    {
     "name": "stdout",
     "output_type": "stream",
     "text": [
      "Q-Learning: Time = 6.4123s, Path Length = 59\n"
     ]
    }
   ],
   "source": [
    "rows, cols = 20, 20\n",
    "start_2 = (1, 0)\n",
    "goal_2 = (18, 19)\n",
    "\n",
    "start_time = time.time()\n",
    "q_table_2 = q_learning(maze_2, start_2, goal_2)\n",
    "q_path_2 = get_path(q_table_2, start_2, goal_2)\n",
    "q_time_2 = time.time() - start_time\n",
    "\n",
    "visualize_maze(maze_2, start_2, goal_2, q_path_2)\n",
    "\n",
    "print(f\"Q-Learning: Time = {q_time_2:.4f}s, Path Length = {len(q_path_2) if q_path_2 else 'N/A'}\")"
   ]
  },
  {
   "cell_type": "code",
   "execution_count": 10,
   "id": "01b7a73b-5d06-4062-b777-1032b617564e",
   "metadata": {},
   "outputs": [
    {
     "data": {
      "image/png": "[encoded data removed]",
      "text/plain": [
       "<Figure size 640x480 with 1 Axes>"
      ]
     },
     "metadata": {},
     "output_type": "display_data"
    },
    {
     "name": "stdout",
     "output_type": "stream",
     "text": [
      "Q-Learning: Time = 0.2376s, Path Length = 57\n"
     ]
    }
   ],
   "source": [
    "rows, cols = 9, 20\n",
    "start_1 = (1, 0)\n",
    "goal_1 = (10, 11)\n",
    "\n",
    "start_time = time.time()\n",
    "q_table_1 = q_learning(maze_1, start_1, goal_1)\n",
    "q_path_1 = get_path(q_table_1, start_1, goal_1)\n",
    "q_time_1 = time.time() - start_time\n",
    "\n",
    "visualize_maze(maze_1, start_1, goal_1, q_path_1)\n",
    "\n",
    "print(f\"Q-Learning: Time = {q_time_1:.4f}s, Path Length = {len(q_path_1) if q_path_1 else 'N/A'}\")"
   ]
  },
  {
   "cell_type": "code",
   "execution_count": 11,
   "id": "4635eca6-7722-4499-906a-f01bdde4a1d9",
   "metadata": {},
   "outputs": [
    {
     "data": {
      "image/png": "[encoded data removed]",
      "text/plain": [
       "<Figure size 640x480 with 1 Axes>"
      ]
     },
     "metadata": {},
     "output_type": "display_data"
    },
    {
     "name": "stdout",
     "output_type": "stream",
     "text": [
      "Q-Learning: Time = 0.2139s, Path Length = 54\n"
     ]
    }
   ],
   "source": [
    "rows, cols = 9, 20\n",
    "start_3 = (1, 0)\n",
    "goal_3 = (7, 19)\n",
    "\n",
    "start_time = time.time()\n",
    "q_table_3 = q_learning(maze_3, start_3, goal_3)\n",
    "q_path_3 = get_path(q_table_3, start_3, goal_3)\n",
    "q_time_3 = time.time() - start_time\n",
    "\n",
    "visualize_maze(maze_3, start_3, goal_3, q_path_3)\n",
    "\n",
    "print(f\"Q-Learning: Time = {q_time_3:.4f}s, Path Length = {len(q_path_3) if q_path_3 else 'N/A'}\")"
   ]
  },
  {
   "cell_type": "code",
   "execution_count": 17,
   "id": "00f353fa-e188-42c6-9c9f-497a3f9bb5ac",
   "metadata": {},
   "outputs": [],
   "source": [
    "def save_results(maze, start, goal, q_table, path, num):\n",
    "    \"\"\"\n",
    "    Function to save the results in json file containing the q_table and q_path obtained from Q-Learning.\n",
    "\n",
    "    Parameters:\n",
    "    maze (numpy.ndarray): 2D array representing the maze\n",
    "    start (tuple): Starting position (row, col)\n",
    "    goal (tuple): Goal position (row, col)\n",
    "    path (list): Path from start to goal\n",
    "    \"\"\"\n",
    "    \n",
    "    \n",
    "    results = {\n",
    "        \"maze\": maze.tolist(),\n",
    "        \"start\": start,\n",
    "        \"goal\": goal,\n",
    "        \"path\": path,\n",
    "        \"qtable\": q_table.tolist()\n",
    "    }\n",
    "    \n",
    "    with open('q_learning_results_{}.json'.format(num), 'w') as f:\n",
    "        json.dump(results, f)\n",
    "    \n",
    "    print(\"Results saved as 'q_learning_results_{}.json'\".format(num))\n"
   ]
  },
  {
   "cell_type": "code",
   "execution_count": 14,
   "id": "a75eba52-420b-442e-87fe-e5ac02fd55a0",
   "metadata": {},
   "outputs": [
    {
     "name": "stdout",
     "output_type": "stream",
     "text": [
      "Results saved as 'q_learning_results_1.json'\n"
     ]
    }
   ],
   "source": [
    "save_results(maze_1, start_1, goal_1, q_table_1, q_path_1, 1)"
   ]
  },
  {
   "cell_type": "code",
   "execution_count": 15,
   "id": "f0516a24-deb5-48ad-ba89-2758bf34b6ab",
   "metadata": {},
   "outputs": [
    {
     "name": "stdout",
     "output_type": "stream",
     "text": [
      "Results saved as 'q_learning_results_2.json'\n"
     ]
    }
   ],
   "source": [
    "save_results(maze_2, start_2, goal_2, q_table_2, q_path_2, 2)"
   ]
  },
  {
   "cell_type": "code",
   "execution_count": 16,
   "id": "952d90db-5a56-4b31-876f-1b757b80217c",
   "metadata": {},
   "outputs": [
    {
     "name": "stdout",
     "output_type": "stream",
     "text": [
      "Results saved as 'q_learning_results_3.json'\n"
     ]
    }
   ],
   "source": [
    "save_results(maze_3, start_3, goal_3, q_table_3, q_path_3, 3)"
   ]
  }
 ],
 "metadata": {
  "kernelspec": {
   "display_name": "Python 3 (ipykernel)",
   "language": "python",
   "name": "python3"
  },
  "language_info": {
   "codemirror_mode": {
    "name": "ipython",
    "version": 3
   },
   "file_extension": ".py",
   "mimetype": "text/x-python",
   "name": "python",
   "nbconvert_exporter": "python",
   "pygments_lexer": "ipython3",
   "version": "3.12.0"
  }
 },
 "nbformat": 4,
 "nbformat_minor": 5
}
